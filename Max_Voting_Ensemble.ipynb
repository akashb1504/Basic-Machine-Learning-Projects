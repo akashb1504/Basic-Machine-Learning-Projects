{
  "nbformat": 4,
  "nbformat_minor": 0,
  "metadata": {
    "colab": {
      "provenance": [],
      "authorship_tag": "ABX9TyPNw2YZPB3MUdh0iG1XRDGf",
      "include_colab_link": true
    },
    "kernelspec": {
      "name": "python3",
      "display_name": "Python 3"
    },
    "language_info": {
      "name": "python"
    }
  },
  "cells": [
    {
      "cell_type": "markdown",
      "metadata": {
        "id": "view-in-github",
        "colab_type": "text"
      },
      "source": [
        "<a href=\"https://colab.research.google.com/github/akashb1504/Basic-Machine-Learning-Projects/blob/main/Max_Voting_Ensemble.ipynb\" target=\"_parent\"><img src=\"https://colab.research.google.com/assets/colab-badge.svg\" alt=\"Open In Colab\"/></a>"
      ]
    },
    {
      "cell_type": "code",
      "source": [
        "import pandas as pd\n",
        "import numpy as np\n",
        "from sklearn.tree import DecisionTreeClassifier\n",
        "from sklearn.neighbors import KNeighborsClassifier\n",
        "from sklearn.linear_model import LogisticRegression\n",
        "from sklearn.model_selection import train_test_split\n",
        "import warnings\n",
        "warnings.filterwarnings('ignore')\n",
        "from sklearn.metrics import precision_score, recall_score, f1_score, accuracy_score\n",
        "from sklearn.ensemble import VotingClassifier"
      ],
      "metadata": {
        "id": "286Ul1gBE2AB"
      },
      "execution_count": 1,
      "outputs": []
    },
    {
      "cell_type": "code",
      "source": [
        "df = pd.read_csv('/content/heart.csv')\n",
        "x = df.drop('target', axis = 1)\n",
        "y = df['target']"
      ],
      "metadata": {
        "id": "RtnFo6hoE6mV"
      },
      "execution_count": 2,
      "outputs": []
    },
    {
      "cell_type": "code",
      "source": [
        "x_train, x_test, y_train, y_test = train_test_split(x, y, test_size=0.2, random_state=0)"
      ],
      "metadata": {
        "id": "cY8FP3ivE_QU"
      },
      "execution_count": 3,
      "outputs": []
    },
    {
      "cell_type": "code",
      "execution_count": 4,
      "metadata": {
        "colab": {
          "base_uri": "https://localhost:8080/"
        },
        "id": "e2ncLf27EzJB",
        "outputId": "31a8d466-a448-4e51-b2ae-2d44ad8155be"
      },
      "outputs": [
        {
          "output_type": "stream",
          "name": "stdout",
          "text": [
            "Accuracy Ensamble Max voting: 0.819672131147541\n"
          ]
        }
      ],
      "source": [
        "model1 = DecisionTreeClassifier()\n",
        "model2 = KNeighborsClassifier()\n",
        "model3= LogisticRegression()\n",
        "model = VotingClassifier(estimators=[('dt', model1), ('knn', model2), ('lr', model3)])\n",
        "model.fit(x_train,y_train)\n",
        "y_predict=model.predict(x_test)\n",
        "print(\"Accuracy Ensamble Max voting:\", accuracy_score(y_test, y_predict))"
      ]
    }
  ]
}