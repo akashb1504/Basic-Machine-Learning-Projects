{
  "nbformat": 4,
  "nbformat_minor": 0,
  "metadata": {
    "colab": {
      "provenance": [],
      "authorship_tag": "ABX9TyOh53oDcYSplbz8Q0rrZf1/",
      "include_colab_link": true
    },
    "kernelspec": {
      "name": "python3",
      "display_name": "Python 3"
    },
    "language_info": {
      "name": "python"
    }
  },
  "cells": [
    {
      "cell_type": "markdown",
      "metadata": {
        "id": "view-in-github",
        "colab_type": "text"
      },
      "source": [
        "<a href=\"https://colab.research.google.com/github/akashb1504/Basic-Machine-Learning-Projects/blob/main/Classification_Report.ipynb\" target=\"_parent\"><img src=\"https://colab.research.google.com/assets/colab-badge.svg\" alt=\"Open In Colab\"/></a>"
      ]
    },
    {
      "cell_type": "code",
      "execution_count": 2,
      "metadata": {
        "id": "lD3Z2m0jCgmw"
      },
      "outputs": [],
      "source": [
        "import pandas as pd\n",
        "import numpy as np\n",
        "from sklearn import tree\n",
        "from sklearn import datasets\n",
        "from sklearn.datasets import load_iris\n",
        "from sklearn.tree import DecisionTreeClassifier\n",
        "from sklearn.model_selection import train_test_split\n",
        "from sklearn.preprocessing import LabelEncoder\n",
        "import seaborn as sns\n",
        "from sklearn import metrics\n",
        "import matplotlib.pyplot as plt\n",
        "from sklearn.metrics import precision_score, recall_score, f1_score, accuracy_score"
      ]
    },
    {
      "cell_type": "code",
      "source": [
        "df = pd.read_csv(\"/content/Covid Data.csv\")\n",
        "df = df.apply(LabelEncoder().fit_transform)"
      ],
      "metadata": {
        "id": "Jp7nWGrNCv1f"
      },
      "execution_count": 3,
      "outputs": []
    },
    {
      "cell_type": "code",
      "source": [
        "X = df.iloc[:,:-1]\n",
        "y = df.iloc[:,-1]"
      ],
      "metadata": {
        "id": "3NddIw2_C1gn"
      },
      "execution_count": 4,
      "outputs": []
    },
    {
      "cell_type": "code",
      "source": [
        "X_train, X_test, y_train, y_test = train_test_split(X, y, random_state=20, test_size=0.20)"
      ],
      "metadata": {
        "id": "ddleltnQC1ep"
      },
      "execution_count": 5,
      "outputs": []
    },
    {
      "cell_type": "code",
      "source": [
        "tree = DecisionTreeClassifier()\n",
        "tree.fit(X_train, y_train)\n",
        "y_pred = tree.predict(X_test)"
      ],
      "metadata": {
        "id": "xwgh3oORC1cb"
      },
      "execution_count": 6,
      "outputs": []
    },
    {
      "cell_type": "code",
      "source": [
        "confusion_matrix = metrics.confusion_matrix(y_test, y_pred)\n",
        "cm_display = metrics.ConfusionMatrixDisplay( confusion_matrix=confusion_matrix, display_labels=[0, 1])\n",
        "\n",
        "cm_display.plot()\n",
        "plt.show()"
      ],
      "metadata": {
        "colab": {
          "base_uri": "https://localhost:8080/",
          "height": 453
        },
        "id": "mPiQXGC9C7SU",
        "outputId": "7005cd13-511e-49e1-e2a9-36861c402293"
      },
      "execution_count": 7,
      "outputs": [
        {
          "output_type": "display_data",
          "data": {
            "text/plain": [
              "<Figure size 640x480 with 2 Axes>"
            ],
            "image/png": "[encoded data removed]"
          },
          "metadata": {}
        }
      ]
    },
    {
      "cell_type": "code",
      "source": [
        "cm_values = cm_display.confusion_matrix\n",
        "\n",
        "TP = cm_values[1, 1]\n",
        "TN = cm_values[0, 0]\n",
        "FP = cm_values[0, 1]\n",
        "FN = cm_values[1, 0]\n",
        "\n",
        "accuracy = (TP + TN)/(TP+TN+FP+FN)\n",
        "precision = TP / (TP+FP)\n",
        "recall = TP/(TP+FN)\n",
        "f1 = 2*precision*recall/(precision+recall)\n",
        "print(\"Accuracy:\", accuracy)\n",
        "print()\n",
        "print(\"Precision:\", precision)\n",
        "print()\n",
        "print('Recall:', recall)\n",
        "print()\n",
        "print('F1 score:', f1)"
      ],
      "metadata": {
        "colab": {
          "base_uri": "https://localhost:8080/"
        },
        "id": "dm8-5kIlDJFg",
        "outputId": "eec7cf84-48aa-43fd-b938-fde51436fafa"
      },
      "execution_count": 8,
      "outputs": [
        {
          "output_type": "stream",
          "name": "stdout",
          "text": [
            "Accuracy: 0.842\n",
            "\n",
            "Precision: 0.8932146829810901\n",
            "\n",
            "Recall: 0.9283236994219654\n",
            "\n",
            "F1 score: 0.9104308390022676\n"
          ]
        }
      ]
    }
  ]
}