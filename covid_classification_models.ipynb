{
  "nbformat": 4,
  "nbformat_minor": 0,
  "metadata": {
    "colab": {
      "provenance": [],
      "mount_file_id": "1tO83OsFbK0cHJ4pM-vhWMr88Ja-JQbDg",
      "authorship_tag": "ABX9TyMrPl+3Ah5V7kElS4zx8ZR/",
      "include_colab_link": true
    },
    "kernelspec": {
      "name": "python3",
      "display_name": "Python 3"
    },
    "language_info": {
      "name": "python"
    }
  },
  "cells": [
    {
      "cell_type": "markdown",
      "metadata": {
        "id": "view-in-github",
        "colab_type": "text"
      },
      "source": [
        "<a href=\"https://colab.research.google.com/github/akashb1504/Machine-Learning-Projects/blob/main/covid_classification_models.ipynb\" target=\"_parent\"><img src=\"https://colab.research.google.com/assets/colab-badge.svg\" alt=\"Open In Colab\"/></a>"
      ]
    },
    {
      "cell_type": "code",
      "source": [
        "import pandas as pd\n",
        "import numpy as np\n",
        "from scipy import stats\n",
        "from sklearn.model_selection import train_test_split\n",
        "from sklearn.metrics import accuracy_score,precision_score,recall_score,f1_score\n",
        "from sklearn import datasets\n",
        "from sklearn import svm\n",
        "from sklearn.tree import DecisionTreeClassifier\n",
        "from sklearn.naive_bayes import GaussianNB\n",
        "from sklearn.ensemble import RandomForestClassifier"
      ],
      "metadata": {
        "id": "FTq80XgCphb_"
      },
      "execution_count": 1,
      "outputs": []
    },
    {
      "cell_type": "code",
      "execution_count": 2,
      "metadata": {
        "id": "9zeQjdzCpdZA"
      },
      "outputs": [],
      "source": [
        "df = pd.read_csv(\"/content/drive/MyDrive/github/Datasets/Covid Data.csv\")"
      ]
    },
    {
      "cell_type": "code",
      "source": [
        "df['SEX']=df['SEX'].replace({'Male':1,'Female':0})"
      ],
      "metadata": {
        "colab": {
          "base_uri": "https://localhost:8080/"
        },
        "id": "vGgYJFq3pkjf",
        "outputId": "cc7188c8-2c9f-4635-b6e5-ab67886f1e41"
      },
      "execution_count": 3,
      "outputs": [
        {
          "output_type": "stream",
          "name": "stderr",
          "text": [
            "/tmp/ipython-input-3-2378012647.py:1: FutureWarning: Downcasting behavior in `replace` is deprecated and will be removed in a future version. To retain the old behavior, explicitly call `result.infer_objects(copy=False)`. To opt-in to the future behavior, set `pd.set_option('future.no_silent_downcasting', True)`\n",
            "  df['SEX']=df['SEX'].replace({'Male':1,'Female':0})\n"
          ]
        }
      ]
    },
    {
      "cell_type": "code",
      "source": [
        "df['PATIENT_TYPE']=df['PATIENT_TYPE'].replace({'Returned Home':1,'Hosptilized':0})"
      ],
      "metadata": {
        "colab": {
          "base_uri": "https://localhost:8080/"
        },
        "id": "9rOf0oFbpoFs",
        "outputId": "2c68b0d7-3050-45e4-cf3d-ac451ad328ea"
      },
      "execution_count": 4,
      "outputs": [
        {
          "output_type": "stream",
          "name": "stderr",
          "text": [
            "/tmp/ipython-input-4-3871272190.py:1: FutureWarning: Downcasting behavior in `replace` is deprecated and will be removed in a future version. To retain the old behavior, explicitly call `result.infer_objects(copy=False)`. To opt-in to the future behavior, set `pd.set_option('future.no_silent_downcasting', True)`\n",
            "  df['PATIENT_TYPE']=df['PATIENT_TYPE'].replace({'Returned Home':1,'Hosptilized':0})\n"
          ]
        }
      ]
    },
    {
      "cell_type": "code",
      "source": [
        "df['RESULTS']=df['RESULTS'].replace({'Positive':1,'Negative':0})"
      ],
      "metadata": {
        "colab": {
          "base_uri": "https://localhost:8080/"
        },
        "id": "o4KeB9x2ppMJ",
        "outputId": "cb3dd813-db8b-4770-8c58-0826db61cfac"
      },
      "execution_count": 5,
      "outputs": [
        {
          "output_type": "stream",
          "name": "stderr",
          "text": [
            "/tmp/ipython-input-5-221208633.py:1: FutureWarning: Downcasting behavior in `replace` is deprecated and will be removed in a future version. To retain the old behavior, explicitly call `result.infer_objects(copy=False)`. To opt-in to the future behavior, set `pd.set_option('future.no_silent_downcasting', True)`\n",
            "  df['RESULTS']=df['RESULTS'].replace({'Positive':1,'Negative':0})\n"
          ]
        }
      ]
    },
    {
      "cell_type": "code",
      "source": [
        "x=df[['MEDICAL_UNIT', 'SEX', 'PATIENT_TYPE', 'PNEUMONIA', 'AGE', 'DIABETES',\n",
        "       'COPD', 'ASTHMA', 'INMSUPR', 'HIPERTENSION', 'OTHER_DISEASE',\n",
        "       'CARDIOVASCULAR', 'OBESITY', 'RENAL_CHRONIC', 'TOBACCO']]\n",
        "y=df['RESULTS']"
      ],
      "metadata": {
        "id": "FYFTbc6HppIp"
      },
      "execution_count": 6,
      "outputs": []
    },
    {
      "cell_type": "code",
      "source": [
        "x_train,x_test,y_train,y_test = train_test_split(x,y,test_size=0.2,random_state=1)"
      ],
      "metadata": {
        "id": "7AEfF8E7ppFZ"
      },
      "execution_count": 7,
      "outputs": []
    },
    {
      "cell_type": "code",
      "source": [],
      "metadata": {
        "id": "68Jv9vVqppAu"
      },
      "execution_count": null,
      "outputs": []
    },
    {
      "cell_type": "markdown",
      "source": [
        "# Random Forest"
      ],
      "metadata": {
        "id": "duR6F120p59i"
      }
    },
    {
      "cell_type": "code",
      "source": [
        "rf = RandomForestClassifier()\n",
        "rf.fit(x_train,y_train)\n",
        "rf_pred=rf.predict(x_test)\n",
        "print(\"Accuracy of random forest:\",accuracy_score(y_test,rf_pred))\n",
        "print(\"Precision of random forest:\",precision_score(y_test,rf_pred,average='weighted'))\n",
        "print(\"Recall of random forest:\",recall_score(y_test,rf_pred,average='weighted'))\n",
        "print(\"f1-score of random forest:\",f1_score(y_test,rf_pred,average='weighted'))"
      ],
      "metadata": {
        "colab": {
          "base_uri": "https://localhost:8080/"
        },
        "id": "3cRJVt0zpo-T",
        "outputId": "a68e4f4b-8d51-40c3-c618-ebdb39efa94e"
      },
      "execution_count": 8,
      "outputs": [
        {
          "output_type": "stream",
          "name": "stdout",
          "text": [
            "Accuracy of random forest: 0.874\n",
            "Precision of random forest: 0.8508376753345603\n",
            "Recall of random forest: 0.874\n",
            "f1-score of random forest: 0.8555906568459288\n"
          ]
        }
      ]
    },
    {
      "cell_type": "markdown",
      "source": [
        "# Support Vector Machine"
      ],
      "metadata": {
        "id": "7FMiyBvlqbbX"
      }
    },
    {
      "cell_type": "code",
      "source": [
        "svm_clf = svm.SVC(kernel='linear')\n",
        "svm_clf.fit(x_train,y_train)\n",
        "svm_clf_pred = svm_clf.predict(x_test)\n",
        "print(\"Accuracy of support vector machine:\",accuracy_score(y_test,svm_clf_pred))\n",
        "print(\"Precision of svm:\",precision_score(y_test,svm_clf_pred,average='weighted'))\n",
        "print(\"Recall of svm:\",recall_score(y_test,svm_clf_pred,average='weighted'))\n",
        "print(\"f1-score of svm:\",f1_score(y_test,svm_clf_pred,average='weighted'))"
      ],
      "metadata": {
        "colab": {
          "base_uri": "https://localhost:8080/"
        },
        "id": "BYE7x5EYqOuR",
        "outputId": "8fd89a47-f2ce-4694-d29a-76569af216c7"
      },
      "execution_count": 9,
      "outputs": [
        {
          "output_type": "stream",
          "name": "stdout",
          "text": [
            "Accuracy of support vector machine: 0.8955\n",
            "Precision of svm: 0.8915892466352993\n",
            "Recall of svm: 0.8955\n",
            "f1-score of svm: 0.869346603237989\n"
          ]
        }
      ]
    },
    {
      "cell_type": "markdown",
      "source": [
        "#Gaussian Naive Bayes"
      ],
      "metadata": {
        "id": "fsUbGGqHqhKJ"
      }
    },
    {
      "cell_type": "code",
      "source": [
        "gnb =  GaussianNB()\n",
        "gnb.fit(x_train,y_train)\n",
        "gnb_pred = gnb.predict(x_test)\n",
        "print(\"accuracy of gaussian Naive Bayes\",accuracy_score(y_test,gnb_pred))\n",
        "print(\"Precision of svm:\",precision_score(y_test,gnb_pred,average='weighted'))\n",
        "print(\"Recall of svm:\",recall_score(y_test,gnb_pred,average='weighted'))\n",
        "print(\"f1-score of svm:\",f1_score(y_test,gnb_pred,average='weighted'))"
      ],
      "metadata": {
        "colab": {
          "base_uri": "https://localhost:8080/"
        },
        "id": "92MChkPXqTaY",
        "outputId": "eee8caee-0983-40f5-bb35-f603b186f42b"
      },
      "execution_count": 10,
      "outputs": [
        {
          "output_type": "stream",
          "name": "stdout",
          "text": [
            "accuracy of gaussian Naive Bayes 0.8945\n",
            "Precision of svm: 0.8871932971337012\n",
            "Recall of svm: 0.8945\n",
            "f1-score of svm: 0.8694376058208926\n"
          ]
        }
      ]
    },
    {
      "cell_type": "markdown",
      "source": [
        "#Decision Tree"
      ],
      "metadata": {
        "id": "k_RgMLJRqyhG"
      }
    },
    {
      "cell_type": "code",
      "source": [
        "dt = DecisionTreeClassifier(random_state=0,max_depth=7)\n",
        "dt.fit(x_train,y_train)\n",
        "dt_pred=dt.predict(x_test)\n",
        "print(\"accuracy of decision tree:\",accuracy_score(y_test,dt_pred))\n",
        "print(\"Precision of decision tree:\",precision_score(y_test,dt_pred,average='weighted'))\n",
        "print(\"Recall of decision tree:\",recall_score(y_test,dt_pred,average='weighted'))\n",
        "print(\"f1-score of decision tree:\",f1_score(y_test,dt_pred,average='weighted'))"
      ],
      "metadata": {
        "colab": {
          "base_uri": "https://localhost:8080/"
        },
        "id": "gmzEA-r8qYt6",
        "outputId": "8d4b365d-1992-468e-c54d-68906ca7b8a0"
      },
      "execution_count": 11,
      "outputs": [
        {
          "output_type": "stream",
          "name": "stdout",
          "text": [
            "accuracy of decision tree: 0.89\n",
            "Precision of decision tree: 0.8792850051664405\n",
            "Recall of decision tree: 0.89\n",
            "f1-score of decision tree: 0.8627068466730955\n"
          ]
        }
      ]
    },
    {
      "cell_type": "code",
      "source": [],
      "metadata": {
        "id": "ksqi5sRnrTwX"
      },
      "execution_count": null,
      "outputs": []
    }
  ]
}