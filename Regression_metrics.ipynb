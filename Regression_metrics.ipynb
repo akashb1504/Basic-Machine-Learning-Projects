{
  "nbformat": 4,
  "nbformat_minor": 0,
  "metadata": {
    "colab": {
      "provenance": [],
      "authorship_tag": "ABX9TyM89OFOLIDGbwtPIPboHXpG",
      "include_colab_link": true
    },
    "kernelspec": {
      "name": "python3",
      "display_name": "Python 3"
    },
    "language_info": {
      "name": "python"
    }
  },
  "cells": [
    {
      "cell_type": "markdown",
      "metadata": {
        "id": "view-in-github",
        "colab_type": "text"
      },
      "source": [
        "<a href=\"https://colab.research.google.com/github/akashb1504/Basic-Machine-Learning-Projects/blob/main/Regression_metrics.ipynb\" target=\"_parent\"><img src=\"https://colab.research.google.com/assets/colab-badge.svg\" alt=\"Open In Colab\"/></a>"
      ]
    },
    {
      "cell_type": "code",
      "source": [
        "import numpy as np\n",
        "import pandas as pd\n",
        "from sklearn.preprocessing import LabelEncoder\n",
        "from sklearn.neighbors import KNeighborsRegressor\n",
        "from sklearn.model_selection import train_test_split\n",
        "from math import fmod"
      ],
      "metadata": {
        "id": "dF7scvRfEEmG"
      },
      "execution_count": 1,
      "outputs": []
    },
    {
      "cell_type": "code",
      "source": [
        "df = pd.read_csv(\"/content/day.csv\")\n",
        "X = df.iloc[:,:-1]\n",
        "y = df.iloc[:,-1]"
      ],
      "metadata": {
        "id": "82bNqwtlEFRU"
      },
      "execution_count": 2,
      "outputs": []
    },
    {
      "cell_type": "code",
      "source": [
        "X_train, X_test, y_train, y_test = train_test_split(X, y, train_size=0.8, random_state=0)"
      ],
      "metadata": {
        "id": "9j_tmQH7EIJg"
      },
      "execution_count": 3,
      "outputs": []
    },
    {
      "cell_type": "code",
      "source": [
        "from sklearn.preprocessing import StandardScaler\n",
        "Scaler=StandardScaler()\n",
        "X_train = Scaler.fit_transform(X_train)\n",
        "X_test = Scaler.fit_transform(X_test)"
      ],
      "metadata": {
        "id": "MA_2iogUEKWW"
      },
      "execution_count": 4,
      "outputs": []
    },
    {
      "cell_type": "code",
      "source": [
        "val = KNeighborsRegressor(n_neighbors=3)\n",
        "val.fit(X_train, y_train)\n",
        "y_pred = val.predict(X_test)"
      ],
      "metadata": {
        "id": "bcHPTAhHEMJL"
      },
      "execution_count": 5,
      "outputs": []
    },
    {
      "cell_type": "code",
      "execution_count": 7,
      "metadata": {
        "colab": {
          "base_uri": "https://localhost:8080/"
        },
        "id": "EQNatw5iDyLx",
        "outputId": "328a23b2-2593-4884-9dac-1f85a4bf3dc0"
      },
      "outputs": [
        {
          "output_type": "stream",
          "name": "stdout",
          "text": [
            "Mean Absolute Error: 431.25850340136043\n",
            "\n",
            "Mean Squared Error: 350869.7460317461\n",
            "\n",
            "Root Mean Squared Error: 592.3425917758625\n",
            "\n",
            "Mean Absolute Percentage Error: 17.64431247625879\n",
            "\n",
            "Obtained R2 Score: 0.8973113808212532\n"
          ]
        }
      ],
      "source": [
        "sum1 = []\n",
        "for i, j in zip(y_pred, y_test):\n",
        "    y = i-j\n",
        "    if y<0:\n",
        "        y=-y\n",
        "    sum1.append(y)\n",
        "MAE = sum(sum1)/len(y_test)\n",
        "print('Mean Absolute Error:',MAE)\n",
        "print()\n",
        "\n",
        "sum2 = []\n",
        "for i, j in zip(y_pred, y_test):\n",
        "    y = (i-j)**2\n",
        "    sum1.append(y)\n",
        "MSE = sum(sum1)/len(y_test)\n",
        "print('Mean Squared Error:',MSE)\n",
        "print()\n",
        "\n",
        "RMSE = np.sqrt(MSE)\n",
        "print('Root Mean Squared Error:',RMSE)\n",
        "print()\n",
        "\n",
        "sum3=[]\n",
        "for i, j in zip(y_pred, y_test):\n",
        "    y = i-j\n",
        "    if y<0:\n",
        "        y=-y\n",
        "    y=y/j\n",
        "    sum3.append(y)\n",
        "MAPE = sum(sum3)*100/len(y_test)\n",
        "print('Mean Absolute Percentage Error:',MAPE)\n",
        "print()\n",
        "\n",
        "sum4 = []\n",
        "for i in y_pred:\n",
        "    y = (i-np.mean(y_test))**2\n",
        "    sum4.append(y)\n",
        "R2 = 1 - (sum(sum1)/sum(sum4))\n",
        "print('Obtained R2 Score:',R2)"
      ]
    }
  ]
}