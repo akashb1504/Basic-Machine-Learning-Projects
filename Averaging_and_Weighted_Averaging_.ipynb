{
  "nbformat": 4,
  "nbformat_minor": 0,
  "metadata": {
    "colab": {
      "provenance": [],
      "authorship_tag": "ABX9TyNPmQJ2IHEq02y569SjspAG",
      "include_colab_link": true
    },
    "kernelspec": {
      "name": "python3",
      "display_name": "Python 3"
    },
    "language_info": {
      "name": "python"
    }
  },
  "cells": [
    {
      "cell_type": "markdown",
      "metadata": {
        "id": "view-in-github",
        "colab_type": "text"
      },
      "source": [
        "<a href=\"https://colab.research.google.com/github/akashb1504/Basic-Machine-Learning-Projects/blob/main/Averaging_and_Weighted_Averaging_.ipynb\" target=\"_parent\"><img src=\"https://colab.research.google.com/assets/colab-badge.svg\" alt=\"Open In Colab\"/></a>"
      ]
    },
    {
      "cell_type": "code",
      "source": [
        "import pandas as pd\n",
        "import numpy as np\n",
        "from sklearn.tree import DecisionTreeClassifier\n",
        "from sklearn.neighbors import KNeighborsClassifier\n",
        "from sklearn.linear_model import LogisticRegression\n",
        "from sklearn.model_selection import train_test_split\n",
        "import warnings\n",
        "warnings.filterwarnings('ignore')\n",
        "from sklearn.metrics import precision_score, recall_score, f1_score, accuracy_score"
      ],
      "metadata": {
        "id": "zNYBrCKNFejL"
      },
      "execution_count": 1,
      "outputs": []
    },
    {
      "cell_type": "code",
      "source": [
        "df = pd.read_csv('/content/heart.csv')\n",
        "x = df.drop('target', axis = 1)\n",
        "y = df['target']"
      ],
      "metadata": {
        "id": "qBdv8mE0FgRm"
      },
      "execution_count": 2,
      "outputs": []
    },
    {
      "cell_type": "code",
      "source": [
        "x_train, x_test, y_train, y_test = train_test_split(x, y, test_size=0.2, random_state=0)"
      ],
      "metadata": {
        "id": "L_ybecYHFhyG"
      },
      "execution_count": 3,
      "outputs": []
    },
    {
      "cell_type": "markdown",
      "source": [
        "#Averaging"
      ],
      "metadata": {
        "id": "cQvbTkR8Fzcd"
      }
    },
    {
      "cell_type": "code",
      "execution_count": 4,
      "metadata": {
        "colab": {
          "base_uri": "https://localhost:8080/"
        },
        "id": "L3vH8vHfFTZ0",
        "outputId": "03bb9a67-bf7a-472f-ce9b-1f05e16eaa52"
      },
      "outputs": [
        {
          "output_type": "stream",
          "name": "stdout",
          "text": [
            "Averaging: [[0.91656164 0.08343836]\n",
            " [0.32504181 0.67495819]\n",
            " [0.5201452  0.4798548 ]\n",
            " [0.92551901 0.07448099]\n",
            " [0.76613876 0.23386124]\n",
            " [0.32124183 0.67875817]\n",
            " [0.8507183  0.1492817 ]\n",
            " [0.89431699 0.10568301]\n",
            " [0.93146567 0.06853433]\n",
            " [0.9319722  0.0680278 ]\n",
            " [0.54003945 0.45996055]\n",
            " [0.09206642 0.90793358]\n",
            " [0.98886139 0.01113861]\n",
            " [0.113537   0.886463  ]\n",
            " [0.08218376 0.91781624]\n",
            " [0.50397208 0.49602792]\n",
            " [0.91304183 0.08695817]\n",
            " [0.08576594 0.91423406]\n",
            " [0.93108463 0.06891537]\n",
            " [0.11444373 0.88555627]\n",
            " [0.12271619 0.87728381]\n",
            " [0.70844489 0.29155511]\n",
            " [0.90991789 0.09008211]\n",
            " [0.76664668 0.23335332]\n",
            " [0.31497584 0.68502416]\n",
            " [0.45846944 0.54153056]\n",
            " [0.60715983 0.39284017]\n",
            " [0.76197744 0.23802256]\n",
            " [0.07648418 0.92351582]\n",
            " [0.31386681 0.68613319]\n",
            " [0.31689155 0.68310845]\n",
            " [0.8616117  0.1383883 ]\n",
            " [0.08118345 0.91881655]\n",
            " [0.34113001 0.65886999]\n",
            " [0.09454287 0.90545713]\n",
            " [0.1709823  0.8290177 ]\n",
            " [0.98514686 0.01485314]\n",
            " [0.18546812 0.81453188]\n",
            " [0.83535824 0.16464176]\n",
            " [0.68791423 0.31208577]\n",
            " [0.33637231 0.66362769]\n",
            " [0.47652567 0.52347433]\n",
            " [0.27791847 0.72208153]\n",
            " [0.91236784 0.08763216]\n",
            " [0.78203937 0.21796063]\n",
            " [0.55033335 0.44966665]\n",
            " [0.06788491 0.93211509]\n",
            " [0.12400981 0.87599019]\n",
            " [0.71839298 0.28160702]\n",
            " [0.13055242 0.86944758]\n",
            " [0.10787003 0.89212997]\n",
            " [0.34727678 0.65272322]\n",
            " [0.07922002 0.92077998]\n",
            " [0.31812897 0.68187103]\n",
            " [0.06933968 0.93066032]\n",
            " [0.83460634 0.16539366]\n",
            " [0.22567509 0.77432491]\n",
            " [0.0945575  0.9054425 ]\n",
            " [0.26292755 0.73707245]\n",
            " [0.08631578 0.91368422]\n",
            " [0.31476201 0.68523799]]\n"
          ]
        }
      ],
      "source": [
        "model1 = DecisionTreeClassifier()\n",
        "model2 = KNeighborsClassifier()\n",
        "model3= LogisticRegression()\n",
        "model1.fit(x_train,y_train)\n",
        "model2.fit(x_train,y_train)\n",
        "model3.fit(x_train,y_train)\n",
        "pred1=model1.predict_proba(x_test)\n",
        "pred2=model2.predict_proba(x_test)\n",
        "pred3=model3.predict_proba(x_test)\n",
        "finalpred=(pred1+pred2+pred3)/3\n",
        "print(\"Averaging:\",finalpred)"
      ]
    },
    {
      "cell_type": "markdown",
      "source": [
        "#Weighted Averaging"
      ],
      "metadata": {
        "id": "otzENfKnF6G4"
      }
    },
    {
      "cell_type": "code",
      "source": [
        "finalpred=(pred1*0.3+pred2*0.3+pred3*0.4)\n",
        "print(\"Weighted:\",finalpred)"
      ],
      "metadata": {
        "colab": {
          "base_uri": "https://localhost:8080/"
        },
        "id": "gF6tvosjF46z",
        "outputId": "b19625af-4feb-42f9-e5f2-61f49bb2ae34"
      },
      "execution_count": 5,
      "outputs": [
        {
          "output_type": "stream",
          "name": "stdout",
          "text": [
            "Weighted: [[0.91987396 0.08012604]\n",
            " [0.31005017 0.68994983]\n",
            " [0.48417424 0.51582576]\n",
            " [0.93062281 0.06937719]\n",
            " [0.77936651 0.22063349]\n",
            " [0.3454902  0.6545098 ]\n",
            " [0.86086196 0.13913804]\n",
            " [0.89318039 0.10681961]\n",
            " [0.93775881 0.06224119]\n",
            " [0.93836664 0.06163336]\n",
            " [0.50804734 0.49195266]\n",
            " [0.0904797  0.9095203 ]\n",
            " [0.98663367 0.01336633]\n",
            " [0.1162444  0.8837556 ]\n",
            " [0.07862051 0.92137949]\n",
            " [0.48476649 0.51523351]\n",
            " [0.9156502  0.0843498 ]\n",
            " [0.10291912 0.89708088]\n",
            " [0.93730156 0.06269844]\n",
            " [0.11733247 0.88266753]\n",
            " [0.12725943 0.87274057]\n",
            " [0.71013386 0.28986614]\n",
            " [0.91190147 0.08809853]\n",
            " [0.77997602 0.22002398]\n",
            " [0.29797101 0.70202899]\n",
            " [0.47016333 0.52983667]\n",
            " [0.62859179 0.37140821]\n",
            " [0.75437293 0.24562707]\n",
            " [0.07178102 0.92821898]\n",
            " [0.31664017 0.68335983]\n",
            " [0.32026985 0.67973015]\n",
            " [0.87393405 0.12606595]\n",
            " [0.07742014 0.92257986]\n",
            " [0.32935602 0.67064398]\n",
            " [0.09345144 0.90654856]\n",
            " [0.18517876 0.81482124]\n",
            " [0.98217623 0.01782377]\n",
            " [0.18256175 0.81743825]\n",
            " [0.84242989 0.15757011]\n",
            " [0.70549707 0.29450293]\n",
            " [0.32364678 0.67635322]\n",
            " [0.45183081 0.54816919]\n",
            " [0.31350216 0.68649784]\n",
            " [0.91484141 0.08515859]\n",
            " [0.75844725 0.24155275]\n",
            " [0.52040002 0.47959998]\n",
            " [0.08146189 0.91853811]\n",
            " [0.14881177 0.85118823]\n",
            " [0.74207158 0.25792842]\n",
            " [0.13666291 0.86333709]\n",
            " [0.10944403 0.89055597]\n",
            " [0.35673213 0.64326787]\n",
            " [0.07506403 0.92493597]\n",
            " [0.30175476 0.69824524]\n",
            " [0.06320761 0.93679239]\n",
            " [0.84152761 0.15847239]\n",
            " [0.21081011 0.78918989]\n",
            " [0.093469   0.906531  ]\n",
            " [0.25551306 0.74448694]\n",
            " [0.08357894 0.91642106]\n",
            " [0.31771441 0.68228559]]\n"
          ]
        }
      ]
    }
  ]
}