{
  "nbformat": 4,
  "nbformat_minor": 0,
  "metadata": {
    "colab": {
      "provenance": [],
      "authorship_tag": "ABX9TyN+BDguk5Fn2tDBg2cJ6LjV",
      "include_colab_link": true
    },
    "kernelspec": {
      "name": "python3",
      "display_name": "Python 3"
    },
    "language_info": {
      "name": "python"
    }
  },
  "cells": [
    {
      "cell_type": "markdown",
      "metadata": {
        "id": "view-in-github",
        "colab_type": "text"
      },
      "source": [
        "<a href=\"https://colab.research.google.com/github/akashb1504/Basic-Machine-Learning-Projects/blob/main/KNN.ipynb\" target=\"_parent\"><img src=\"https://colab.research.google.com/assets/colab-badge.svg\" alt=\"Open In Colab\"/></a>"
      ]
    },
    {
      "cell_type": "code",
      "execution_count": 1,
      "metadata": {
        "id": "gVSdHL3c9sO3"
      },
      "outputs": [],
      "source": [
        "import numpy as np\n",
        "import pandas as pd"
      ]
    },
    {
      "cell_type": "code",
      "source": [
        "data = pd.read_csv('/content/KNN.csv')\n",
        "X = np.array(data['BRIGHTNESS'])\n",
        "Y = np.array(data['SATURATION'])"
      ],
      "metadata": {
        "id": "E2tNieFw_pQk"
      },
      "execution_count": 2,
      "outputs": []
    },
    {
      "cell_type": "code",
      "source": [
        "def euclid_dist(x1,x2):\n",
        " dist = []\n",
        " for i in range(len(X)):\n",
        "     temp = (x1-X[i])**2 + (x2-Y[i])**2\n",
        "     ed = (temp)**(1/2)\n",
        "     dist.append(ed)\n",
        " return dist\n",
        "euclid_dist(22,35)\n",
        "k = int(input('number of neighbours to be selected: '))\n",
        "a = euclid_dist(22,35)\n",
        "b = a.copy()\n",
        "ind = []\n",
        "for i in range(k):\n",
        " m = min(b)\n",
        " ind.append(a.index(m))\n",
        " b.pop(b.index(m))\n",
        "print(ind)\n",
        "y_test = data['CLASS']\n",
        "KNN_predict = y_test[ind]\n",
        "print(max(KNN_predict))\n"
      ],
      "metadata": {
        "colab": {
          "base_uri": "https://localhost:8080/"
        },
        "id": "PHN36heO_pNn",
        "outputId": "a048ed99-9f73-4b15-bb39-394fa80d0486"
      },
      "execution_count": 3,
      "outputs": [
        {
          "output_type": "stream",
          "name": "stdout",
          "text": [
            "number of neighbours to be selected: 5\n",
            "[3, 0, 1, 6, 5]\n",
            "Red\n"
          ]
        }
      ]
    }
  ]
}