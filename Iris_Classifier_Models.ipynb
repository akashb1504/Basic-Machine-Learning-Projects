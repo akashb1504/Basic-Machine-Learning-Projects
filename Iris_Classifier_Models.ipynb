{
  "nbformat": 4,
  "nbformat_minor": 0,
  "metadata": {
    "colab": {
      "provenance": [],
      "mount_file_id": "1MfdVgliH22gz0DtViIlzkK78TI0Cbl7X",
      "authorship_tag": "ABX9TyNlUZ7r4N01vQNW/O15K4o6",
      "include_colab_link": true
    },
    "kernelspec": {
      "name": "python3",
      "display_name": "Python 3"
    },
    "language_info": {
      "name": "python"
    }
  },
  "cells": [
    {
      "cell_type": "markdown",
      "metadata": {
        "id": "view-in-github",
        "colab_type": "text"
      },
      "source": [
        "<a href=\"https://colab.research.google.com/github/akashb1504/Machine-Learning-Projects/blob/main/Iris_Classifier_Models.ipynb\" target=\"_parent\"><img src=\"https://colab.research.google.com/assets/colab-badge.svg\" alt=\"Open In Colab\"/></a>"
      ]
    },
    {
      "cell_type": "code",
      "source": [
        "import numpy as np\n",
        "import pandas as pd\n",
        "from sklearn.model_selection import train_test_split\n",
        "from sklearn.metrics import accuracy_score,precision_score,recall_score,f1_score\n",
        "from sklearn import datasets\n",
        "from sklearn import svm\n",
        "from sklearn.tree import DecisionTreeClassifier\n",
        "from sklearn.naive_bayes import GaussianNB"
      ],
      "metadata": {
        "id": "QMP_Bd1fGSu_"
      },
      "execution_count": 2,
      "outputs": []
    },
    {
      "cell_type": "code",
      "source": [
        "iris = datasets.load_iris()\n",
        "X = iris.data\n",
        "y = iris.target"
      ],
      "metadata": {
        "id": "hdGHd-1NE0nS"
      },
      "execution_count": 3,
      "outputs": []
    },
    {
      "cell_type": "code",
      "source": [
        "print('Train:Testing Ratio')\n",
        "X_train, X_test, y_train, y_test = train_test_split(X, y, test_size=0.2, random_state=1)\n",
        "print(\"X_train shape:\", X_train.shape)\n",
        "print(\"y_train shape:\", y_train.shape)\n",
        "print(\"X_test shape:\", X_test.shape)\n",
        "print(\"y_test shape:\", y_test.shape)\n",
        "print('\\n')"
      ],
      "metadata": {
        "id": "A6sT7J_aE0hR",
        "colab": {
          "base_uri": "https://localhost:8080/"
        },
        "outputId": "e44eb478-55ac-47d8-b1ad-e8f14a2403d1"
      },
      "execution_count": 4,
      "outputs": [
        {
          "output_type": "stream",
          "name": "stdout",
          "text": [
            "Train:Testing Ratio\n",
            "X_train shape: (120, 4)\n",
            "y_train shape: (120,)\n",
            "X_test shape: (30, 4)\n",
            "y_test shape: (30,)\n",
            "\n",
            "\n"
          ]
        }
      ]
    },
    {
      "cell_type": "markdown",
      "source": [
        "# Support Vector Machine"
      ],
      "metadata": {
        "id": "OG-3wA3glyab"
      }
    },
    {
      "cell_type": "code",
      "source": [
        "svm_clf = svm.SVC(kernel='linear')"
      ],
      "metadata": {
        "id": "gk2EizgXE0d0"
      },
      "execution_count": 9,
      "outputs": []
    },
    {
      "cell_type": "code",
      "source": [
        "#train the model\n",
        "svm_clf.fit(X_train, y_train)\n",
        "\n",
        "#make predictions\n",
        "svm_clf_pred = svm_clf.predict(X_test)\n",
        "print(\"Obtained classification results while testing:\", svm_clf_pred)\n",
        "print(\"Actual classification results:\", y_test)\n"
      ],
      "metadata": {
        "id": "GSxi2lPzE0a4",
        "colab": {
          "base_uri": "https://localhost:8080/"
        },
        "outputId": "84c9e23a-1a3d-4a3e-e480-b5555f82a059"
      },
      "execution_count": 6,
      "outputs": [
        {
          "output_type": "stream",
          "name": "stdout",
          "text": [
            "Obtained classification results while testing: [0 1 1 0 2 1 2 0 0 2 1 0 2 1 1 0 1 1 0 0 1 1 1 0 2 1 0 0 1 2]\n",
            "Actual classification results: [0 1 1 0 2 1 2 0 0 2 1 0 2 1 1 0 1 1 0 0 1 1 1 0 2 1 0 0 1 2]\n"
          ]
        }
      ]
    },
    {
      "cell_type": "code",
      "source": [
        "#print accuracy\n",
        "print(\"Accuracy of SVM:\", accuracy_score(y_test, svm_clf_pred))"
      ],
      "metadata": {
        "id": "48xzQfENE0Wu",
        "colab": {
          "base_uri": "https://localhost:8080/"
        },
        "outputId": "f9988da2-b681-4b65-9094-95fc7404dc62"
      },
      "execution_count": 7,
      "outputs": [
        {
          "output_type": "stream",
          "name": "stdout",
          "text": [
            "Accuracy of SVM: 1.0\n"
          ]
        }
      ]
    },
    {
      "cell_type": "code",
      "source": [
        "#print other performance metrics\n",
        "print(\"Precision of SVM:\", precision_score(y_test, svm_clf_pred, average='weighted'))\n",
        "print(\"Recall of SVM:\", recall_score(y_test, svm_clf_pred, average='weighted'))\n",
        "print(\"F1-Score of SVM:\", f1_score(y_test, svm_clf_pred, average='weighted'))\n",
        "print('\\n')\n"
      ],
      "metadata": {
        "id": "sl2H_nsHE0TK",
        "colab": {
          "base_uri": "https://localhost:8080/"
        },
        "outputId": "113072c3-3480-4b18-eb9b-ccb1bd7ec73d"
      },
      "execution_count": 8,
      "outputs": [
        {
          "output_type": "stream",
          "name": "stdout",
          "text": [
            "Precision of SVM: 1.0\n",
            "Recall of SVM: 1.0\n",
            "F1-Score of SVM: 1.0\n",
            "\n",
            "\n"
          ]
        }
      ]
    },
    {
      "cell_type": "markdown",
      "source": [
        "#Gaussian Naive Bayes"
      ],
      "metadata": {
        "id": "3fDG2iEol8_b"
      }
    },
    {
      "cell_type": "code",
      "source": [
        "gnb = GaussianNB()\n",
        "\n",
        "#train the model\n",
        "gnb.fit(X_train, y_train)\n",
        "\n",
        "#make predictions\n",
        "gnb_pred = gnb.predict(X_test)\n",
        "\n",
        "#print the accuracy\n",
        "print(\"Accuracy of Gaussian Naive Bayes:\", accuracy_score(y_test, gnb_pred))\n",
        "\n",
        "#print other performance metrics\n",
        "print(\"Precision of Gaussian Naive Bayes:\", precision_score(y_test, gnb_pred,average='weighted'))\n",
        "print(\"Recall of Gaussian Naive Bayes:\", recall_score(y_test, gnb_pred,average='weighted'))\n",
        "print(\"F1-Score of Gaussian Naive Bayes:\", f1_score(y_test, gnb_pred,average='weighted'))\n",
        "print('\\n')\n"
      ],
      "metadata": {
        "id": "2Vc3QjD7E0Ps",
        "colab": {
          "base_uri": "https://localhost:8080/"
        },
        "outputId": "1bb5c35b-76d8-44c8-854a-cfd6879fa5d0"
      },
      "execution_count": 10,
      "outputs": [
        {
          "output_type": "stream",
          "name": "stdout",
          "text": [
            "Accuracy of Gaussian Naive Bayes: 0.9666666666666667\n",
            "Precision of Gaussian Naive Bayes: 0.9714285714285714\n",
            "Recall of Gaussian Naive Bayes: 0.9666666666666667\n",
            "F1-Score of Gaussian Naive Bayes: 0.9672820512820512\n",
            "\n",
            "\n"
          ]
        }
      ]
    },
    {
      "cell_type": "markdown",
      "source": [
        "#Decision Tree Classifier"
      ],
      "metadata": {
        "id": "9p2_rJ3EmOGd"
      }
    },
    {
      "cell_type": "code",
      "source": [
        "dt = DecisionTreeClassifier(random_state=0)\n",
        "\n",
        "#train the model\n",
        "dt.fit(X_train, y_train)\n",
        "\n",
        "#make predictions\n",
        "dt_pred = dt.predict(X_test)\n",
        "\n",
        "#print the accuracy\n",
        "print(\"Accuracy of Decision Tree Classifier:\", accuracy_score(y_test, dt_pred))\n",
        "\n",
        "#print other performance metrics\n",
        "print(\"Precision of Decision Tree Classifier:\", precision_score(y_test, dt_pred, average='weighted'))\n",
        "print(\"Recall of Decision Tree Classifier:\", recall_score(y_test, dt_pred, average='weighted'))\n",
        "print(\"F1-Score of Decision Tree Classifier:\", f1_score(y_test, dt_pred, average='weighted'))"
      ],
      "metadata": {
        "colab": {
          "base_uri": "https://localhost:8080/"
        },
        "id": "pEBG6MmcmFFT",
        "outputId": "d3c63f18-8649-4c60-8785-dac9634cf9d2"
      },
      "execution_count": 11,
      "outputs": [
        {
          "output_type": "stream",
          "name": "stdout",
          "text": [
            "Accuracy of Decision Tree Classifier: 0.9666666666666667\n",
            "Precision of Decision Tree Classifier: 0.9714285714285714\n",
            "Recall of Decision Tree Classifier: 0.9666666666666667\n",
            "F1-Score of Decision Tree Classifier: 0.9672820512820512\n"
          ]
        }
      ]
    },
    {
      "cell_type": "code",
      "source": [],
      "metadata": {
        "id": "f2wXBJ3RmNaK"
      },
      "execution_count": null,
      "outputs": []
    }
  ]
}