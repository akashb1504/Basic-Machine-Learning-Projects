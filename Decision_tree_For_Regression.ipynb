{
  "nbformat": 4,
  "nbformat_minor": 0,
  "metadata": {
    "colab": {
      "provenance": [],
      "mount_file_id": "1WwZvwj44CDQanZwFM-J8JTuD0T9vGPeK",
      "authorship_tag": "ABX9TyPGGd4iGd0P3u+huRBzIQqx",
      "include_colab_link": true
    },
    "kernelspec": {
      "name": "python3",
      "display_name": "Python 3"
    },
    "language_info": {
      "name": "python"
    }
  },
  "cells": [
    {
      "cell_type": "markdown",
      "metadata": {
        "id": "view-in-github",
        "colab_type": "text"
      },
      "source": [
        "<a href=\"https://colab.research.google.com/github/akashb1504/Basic-Machine-Learning-Projects/blob/main/Decision_tree_For_Regression.ipynb\" target=\"_parent\"><img src=\"https://colab.research.google.com/assets/colab-badge.svg\" alt=\"Open In Colab\"/></a>"
      ]
    },
    {
      "cell_type": "code",
      "execution_count": null,
      "metadata": {
        "id": "Vpb_lAO69MsA"
      },
      "outputs": [],
      "source": [
        "import pandas\n",
        "import sklearn\n",
        "from sklearn.metrics import r2_score\n",
        "from sklearn.model_selection import train_test_split\n",
        "from sklearn.tree import DecisionTreeRegressor"
      ]
    },
    {
      "cell_type": "code",
      "source": [
        "bike = pandas.read_csv(\"/content/day.csv\")\n",
        "X = bike.iloc[:,:-1]\n",
        "Y = bike['cnt']"
      ],
      "metadata": {
        "id": "24V4-zzC9U1z"
      },
      "execution_count": null,
      "outputs": []
    },
    {
      "cell_type": "code",
      "source": [
        "X_train, X_test, Y_train, Y_test = train_test_split(X, Y, test_size=.20, random_state=0)\n",
        "DT_model = DecisionTreeRegressor()\n",
        "DT_model.fit(X_train,Y_train)\n",
        "DT_predict = DT_model.predict(X_test)"
      ],
      "metadata": {
        "id": "qFkkxe659WM_"
      },
      "execution_count": null,
      "outputs": []
    },
    {
      "cell_type": "code",
      "source": [
        "print(\"R2 Score:\", sklearn.metrics.r2_score(Y_test,DT_predict))"
      ],
      "metadata": {
        "colab": {
          "base_uri": "https://localhost:8080/"
        },
        "id": "frDAJqDP9Xp1",
        "outputId": "7e4e4df6-edde-449e-94e1-fe0fc61c09f0"
      },
      "execution_count": null,
      "outputs": [
        {
          "output_type": "stream",
          "name": "stdout",
          "text": [
            "R2 Score: 0.9856398356598964\n"
          ]
        }
      ]
    }
  ]
}